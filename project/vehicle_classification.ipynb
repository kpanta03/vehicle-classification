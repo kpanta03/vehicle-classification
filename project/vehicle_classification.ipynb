{
 "cells": [
  {
   "cell_type": "code",
   "execution_count": 1,
   "metadata": {},
   "outputs": [],
   "source": [
    "import os\n",
    "import numpy as np\n",
    "\n",
    "import tensorflow as tf\n",
    "from tensorflow.keras import layers\n",
    "from tensorflow.keras.preprocessing.image import load_img, ImageDataGenerator\n",
    "from tensorflow.keras.models import Sequential, load_model\n",
    "from tensorflow.keras.layers import Conv2D, MaxPooling2D, Dense, Dropout, Flatten\n",
    "import matplotlib.pyplot as plt\n",
    "# os.environ['TF_ENABLE_ONEDNN_OPTS'] = '0'\n"
   ]
  },
  {
   "cell_type": "code",
   "execution_count": null,
   "metadata": {},
   "outputs": [],
   "source": [
    "count = 0 \n",
    "dirs = os.listdir('./Dataset')  # Change dataset path here\n",
    "for dir in dirs:\n",
    "    path = os.path.join('./Dataset', dir)\n",
    "    if os.path.isdir(path):  # Ensure it's a directory, not a file (like k.ipynb)\n",
    "        files = list(os.listdir(path))  # List files inside each category folder\n",
    "        print(dir + ' Folder has ' + str(len(files)) + ' Images')  \n",
    "        count += len(files)\n",
    "\n",
    "print('Images Folder has ' + str(count) + ' Images')  \n"
   ]
  },
  {
   "cell_type": "code",
   "execution_count": 3,
   "metadata": {},
   "outputs": [],
   "source": [
    "base_dir = './Dataset'  # Main dataset folder containing Bus, Car, Motorcycle, and Truck\n",
    "val_dir = './Validation/'  # Adjusted validation dataset folder if you have one\n",
    "# img_size = 180  # Resize images to 180x180 pixels\n",
    "img_size = 128\n",
    "# batch = 32  # Set batch size for training\n",
    "batch = 16"
   ]
  },
  {
   "cell_type": "code",
   "execution_count": null,
   "metadata": {},
   "outputs": [],
   "source": [
    "train_ds = tf.keras.utils.image_dataset_from_directory( base_dir,\n",
    "                                                       seed = 123,\n",
    "                                                       validation_split=0.2,\n",
    "                                                       subset = 'training',\n",
    "                                                       batch_size=batch,\n",
    "                                                       image_size=(img_size,img_size))\n",
    "\n",
    "val_ds = tf.keras.utils.image_dataset_from_directory( base_dir,\n",
    "                                                       seed = 123,\n",
    "                                                       validation_split=0.2,\n",
    "                                                       subset = 'validation',\n",
    "                                                       batch_size=batch,\n",
    "                                                       image_size=(img_size,img_size))\n",
    "\n",
    "# Check the number of classes detected\n",
    "print(\"Classes:\", train_ds.class_names) "
   ]
  },
  {
   "cell_type": "code",
   "execution_count": null,
   "metadata": {},
   "outputs": [],
   "source": [
    "vehicle_names = train_ds.class_names  # Get the list of class names\n",
    "print(vehicle_names)  # Print the class names"
   ]
  },
  {
   "cell_type": "code",
   "execution_count": null,
   "metadata": {},
   "outputs": [],
   "source": [
    "i = 0\n",
    "plt.figure(figsize=(10,10))\n",
    "\n",
    "for images, labels in train_ds.take(1):\n",
    "    for i in range(9):\n",
    "        plt.subplot(3,3, i+1)\n",
    "        plt.imshow(images[i].numpy().astype('uint8'))\n",
    "        plt.title(vehicle_names[labels[i].numpy()])  \n",
    "        plt.axis('off')"
   ]
  },
  {
   "cell_type": "code",
   "execution_count": 11,
   "metadata": {},
   "outputs": [],
   "source": [
    "AUTOTUNE = tf.data.AUTOTUNE"
   ]
  },
  {
   "cell_type": "code",
   "execution_count": 12,
   "metadata": {},
   "outputs": [],
   "source": [
    "train_ds = train_ds.cache().shuffle(1000).prefetch(buffer_size = AUTOTUNE)"
   ]
  },
  {
   "cell_type": "code",
   "execution_count": 13,
   "metadata": {},
   "outputs": [],
   "source": [
    "val_ds = val_ds.cache().prefetch(buffer_size = AUTOTUNE)"
   ]
  },
  {
   "cell_type": "code",
   "execution_count": null,
   "metadata": {},
   "outputs": [],
   "source": [
    "data_augmentation = Sequential([\n",
    "    layers.RandomFlip(\"horizontal\", input_shape = (img_size,img_size,3)),\n",
    "    layers.RandomRotation(0.1),\n",
    "    layers.RandomZoom(0.1)\n",
    "])"
   ]
  },
  {
   "cell_type": "code",
   "execution_count": null,
   "metadata": {},
   "outputs": [],
   "source": [
    "i = 0\n",
    "plt.figure(figsize=(10,10))\n",
    "\n",
    "for images, labels in train_ds.take(1):\n",
    "    for i in range(9):\n",
    "        images = data_augmentation(images)\n",
    "        plt.subplot(3,3, i+1)\n",
    "        plt.imshow(images[0].numpy().astype('uint8'))\n",
    "        plt.axis('off')"
   ]
  },
  {
   "cell_type": "code",
   "execution_count": 20,
   "metadata": {},
   "outputs": [],
   "source": [
    "model = Sequential([\n",
    "    data_augmentation,\n",
    "    layers.Rescaling(1./255),\n",
    "    Conv2D(16, 3, padding='same', activation='relu'),\n",
    "    MaxPooling2D(),\n",
    "    Conv2D(32, 3, padding='same', activation='relu'),\n",
    "    MaxPooling2D(),\n",
    "    Conv2D(64, 3, padding='same', activation='relu'),\n",
    "    MaxPooling2D(),\n",
    "    Dropout(0.2),\n",
    "    Flatten(),\n",
    "    Dense(128, activation='relu'),\n",
    "    Dense(5)\n",
    "])"
   ]
  },
  {
   "cell_type": "code",
   "execution_count": 21,
   "metadata": {},
   "outputs": [],
   "source": [
    "model.compile(optimizer='adam',\n",
    "              loss=tf.keras.losses.SparseCategoricalCrossentropy(from_logits=True),\n",
    "              metrics=['accuracy'])"
   ]
  },
  {
   "cell_type": "code",
   "execution_count": null,
   "metadata": {},
   "outputs": [],
   "source": [
    "model.summary()"
   ]
  },
  {
   "cell_type": "code",
   "execution_count": null,
   "metadata": {},
   "outputs": [],
   "source": [
    "history = model.fit(train_ds, epochs=10, validation_data=val_ds)"
   ]
  },
  {
   "cell_type": "code",
   "execution_count": 24,
   "metadata": {},
   "outputs": [],
   "source": [
    "model.save('vehicle_classification.keras')\n"
   ]
  },
  {
   "cell_type": "code",
   "execution_count": null,
   "metadata": {},
   "outputs": [],
   "source": [
    "#  graph and confusion matrix\n",
    "import seaborn as sns\n",
    "from sklearn.metrics import confusion_matrix, classification_report\n",
    "\n",
    "# Plot Training Accuracy & Loss\n",
    "plt.figure(figsize=(12, 5))\n",
    "\n",
    "# Accuracy Plot\n",
    "plt.subplot(1, 2, 1)\n",
    "plt.plot(history.history['accuracy'], label='Train Accuracy')\n",
    "plt.plot(history.history['val_accuracy'], label='Validation Accuracy')\n",
    "plt.xlabel('Epoch')\n",
    "plt.ylabel('Accuracy')\n",
    "plt.legend()\n",
    "plt.title('Training & Validation Accuracy')"
   ]
  },
  {
   "cell_type": "code",
   "execution_count": null,
   "metadata": {},
   "outputs": [],
   "source": [
    "# Loss Plot\n",
    "plt.subplot(1, 2, 2)\n",
    "plt.plot(history.history['loss'], label='Train Loss')\n",
    "plt.plot(history.history['val_loss'], label='Validation Loss')\n",
    "plt.xlabel('Epoch')\n",
    "plt.ylabel('Loss')\n",
    "plt.legend()\n",
    "plt.title('Training & Validation Loss')\n",
    "\n"
   ]
  },
  {
   "cell_type": "code",
   "execution_count": 27,
   "metadata": {},
   "outputs": [],
   "source": [
    "plt.show()"
   ]
  },
  {
   "cell_type": "code",
   "execution_count": null,
   "metadata": {},
   "outputs": [],
   "source": [
    "# Confusion Matrix\n",
    "y_true = []\n",
    "y_pred = []\n",
    "\n",
    "for images, labels in val_ds:\n",
    "    preds = model.predict(images)\n",
    "    y_true.extend(labels.numpy())\n",
    "    y_pred.extend(np.argmax(preds, axis=1))\n",
    "\n",
    "cm = confusion_matrix(y_true, y_pred)\n",
    "plt.figure(figsize=(8, 6))\n",
    "sns.heatmap(cm, annot=True, fmt=\"d\", cmap=\"Blues\", xticklabels=vehicle_names, yticklabels=vehicle_names)\n",
    "plt.xlabel(\"Predicted Label\")\n",
    "plt.ylabel(\"True Label\")\n",
    "plt.title(\"Confusion Matrix\")\n",
    "plt.show()\n",
    "\n",
    "# Classification Report\n",
    "print(\"Classification Report:\\n\", classification_report(y_true, y_pred, target_names=vehicle_names))\n",
    "# ya samma"
   ]
  },
  {
   "cell_type": "code",
   "execution_count": null,
   "metadata": {},
   "outputs": [],
   "source": [
    "def classify_images(image_path):\n",
    "    input_image = tf.keras.utils.load_img(image_path, target_size=(128,128))\n",
    "    input_image_array = tf.keras.utils.img_to_array(input_image)\n",
    "    input_image_exp_dim = tf.expand_dims(input_image_array,0)\n",
    "\n",
    "    predictions = model.predict(input_image_exp_dim)\n",
    "    result = tf.nn.softmax(predictions[0])\n",
    "    outcome = 'The Image belongs to ' + vehicle_names[np.argmax(result)] + ' with a score of '+ str(np.max(result)*100)\n",
    "    return outcome\n",
    "\n",
    "tf.keras.models.load_model('vehicle_classification.keras')"
   ]
  },
  {
   "cell_type": "code",
   "execution_count": null,
   "metadata": {},
   "outputs": [],
   "source": [
    "import matplotlib.pyplot as plt\n",
    "import matplotlib.image as mpimg\n",
    "imgPath = 'test.jpg'\n",
    "prediction = classify_images(imgPath)\n",
    "plt.subplot(3,3,3)\n",
    "plt.imshow(mpimg.imread(imgPath))\n",
    "plt.title(prediction)\n",
    "plt.axis('off')"
   ]
  },
  {
   "cell_type": "code",
   "execution_count": null,
   "metadata": {},
   "outputs": [],
   "source": [
    "# .py file ma matra chalxa.\n",
    "import streamlit as st\n",
    "import tensorflow as tf\n",
    "import numpy as np\n",
    "from PIL import Image\n",
    "\n",
    "# Load trained model\n",
    "model = tf.keras.models.load_model('vehicle_classification.keras')\n",
    "\n",
    "# Class names\n",
    "vehicle_names = ['Bus', 'Car', 'Motorcycle', 'Truck']\n",
    "\n",
    "# Function to classify image\n",
    "def classify_images(image):\n",
    "    input_image = image.resize((128, 128))\n",
    "    input_image_array = np.array(input_image) / 255.0  # Normalize\n",
    "    input_image_exp_dim = np.expand_dims(input_image_array, axis=0)\n",
    "\n",
    "    predictions = model.predict(input_image_exp_dim)\n",
    "    result = tf.nn.softmax(predictions[0])\n",
    "    \n",
    "    outcome = f\"The image belongs to **{vehicle_names[np.argmax(result)]}** with a confidence score of **{np.max(result) * 100:.2f}%**\"\n",
    "    return outcome\n",
    "\n",
    "# Streamlit UI\n",
    "st.title(\"🚗 Vehicle Classification\")\n",
    "st.write(\"Upload an image to classify whether it's a Bus, Car, Motorcycle, or Truck.\")\n",
    "\n",
    "uploaded_file = st.file_uploader(\"Choose an image...\", type=[\"jpg\", \"jpeg\", \"png\"])\n",
    "\n",
    "if uploaded_file is not None:\n",
    "    image = Image.open(uploaded_file)\n",
    "    st.image(image, caption=\"Uploaded Image\", use_column_width=True)\n",
    "    \n",
    "    st.write(\"Classifying...\")\n",
    "    prediction = classify_images(image)\n",
    "    st.success(prediction)\n"
   ]
  },
  {
   "cell_type": "code",
   "execution_count": null,
   "metadata": {},
   "outputs": [],
   "source": [
    "import tkinter as tk\n",
    "from tkinter import filedialog, Label, Button, Frame\n",
    "import tensorflow as tf\n",
    "import numpy as np\n",
    "from PIL import Image, ImageTk\n",
    "\n",
    "# Load trained model\n",
    "model = tf.keras.models.load_model('vehicle_classification.keras')\n",
    "\n",
    "# Class names with emojis\n",
    "vehicle_names = ['🚌 Bus', '🚗 Car', '🏍️ Motorcycle', '🚛 Truck']\n",
    "\n",
    "# Function to classify an image\n",
    "def classify_images(image_path):\n",
    "    input_image = tf.keras.utils.load_img(image_path, target_size=(128, 128))\n",
    "    input_image_array = tf.keras.utils.img_to_array(input_image)\n",
    "    input_image_exp_dim = tf.expand_dims(input_image_array, 0)\n",
    "\n",
    "    predictions = model.predict(input_image_exp_dim)\n",
    "    result = tf.nn.softmax(predictions[0])\n",
    "    \n",
    "    outcome = f\"🎯 This image is a {vehicle_names[np.argmax(result)]} with {np.max(result) * 100:.2f}% accuracy!\" \n",
    "    return outcome\n",
    "\n",
    "# Function to open file dialog and classify selected image\n",
    "def upload_image():\n",
    "    file_path = filedialog.askopenfilename(filetypes=[(\"Image Files\", \"*.jpg;*.jpeg;*.png\")])\n",
    "    \n",
    "    if file_path:\n",
    "        # Display image\n",
    "        img = Image.open(file_path)\n",
    "        img = img.resize((250, 250))  # Resize for display\n",
    "        img = ImageTk.PhotoImage(img)\n",
    "\n",
    "        image_label.config(image=img)\n",
    "        image_label.image = img\n",
    "\n",
    "        # Classify image\n",
    "        prediction = classify_images(file_path)\n",
    "        result_label.config(text=prediction, fg=\"#FFD700\")  # Golden text\n",
    "\n",
    "# Create Tkinter window\n",
    "root = tk.Tk()\n",
    "root.title(\"🚀 Vehicle Classifier 🏎️\")\n",
    "root.geometry(\"600x700\")\n",
    "root.configure(bg=\"#1E3A8A\")  # Deep blue background\n",
    "\n",
    "# Frame for styling\n",
    "frame = Frame(root, bg=\"#FFFFFF\", bd=5, relief=\"ridge\", highlightbackground=\"#FFD700\", highlightthickness=3)\n",
    "frame.pack(pady=30, padx=30, fill=\"both\", expand=True)\n",
    "\n",
    "# Title label\n",
    "title_label = Label(frame, text=\"🏎️ Vehicle Classifier 🏁\", font=(\"Arial\", 20, \"bold\"), fg=\"#1E3A8A\", bg=\"#FFFFFF\")\n",
    "title_label.pack(pady=15)\n",
    "\n",
    "# Upload button\n",
    "upload_button = Button(frame, text=\"📸 Select an Image\", command=upload_image, font=(\"Arial\", 14, \"bold\"), \n",
    "                       bg=\"#FFD700\", fg=\"#1E3A8A\", padx=12, pady=8, relief=\"raised\", cursor=\"hand2\")\n",
    "upload_button.pack(pady=20)\n",
    "\n",
    "# Image display label\n",
    "image_label = Label(frame, bg=\"#FFFFFF\", bd=2, relief=\"ridge\")\n",
    "image_label.pack(pady=15)\n",
    "\n",
    "# Result label\n",
    "result_label = Label(frame, text=\"\", font=(\"Arial\", 14, \"bold\"), fg=\"#E74C3C\", bg=\"#FFFFFF\", wraplength=450, justify=\"center\")\n",
    "result_label.pack(pady=25)\n",
    "\n",
    "# Run the GUI\n",
    "root.mainloop()\n"
   ]
  }
 ],
 "metadata": {
  "kernelspec": {
   "display_name": "virtual",
   "language": "python",
   "name": "python3"
  },
  "language_info": {
   "codemirror_mode": {
    "name": "ipython",
    "version": 3
   },
   "file_extension": ".py",
   "mimetype": "text/x-python",
   "name": "python",
   "nbconvert_exporter": "python",
   "pygments_lexer": "ipython3",
   "version": "3.12.2"
  }
 },
 "nbformat": 4,
 "nbformat_minor": 2
}
